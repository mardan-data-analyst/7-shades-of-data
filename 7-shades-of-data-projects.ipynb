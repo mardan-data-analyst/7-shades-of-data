{
  "metadata": {
    "kernelspec": {
      "language": "python",
      "display_name": "Python 3",
      "name": "python3"
    },
    "language_info": {
      "name": "python",
      "version": "3.7.12",
      "mimetype": "text/x-python",
      "codemirror_mode": {
        "name": "ipython",
        "version": 3
      },
      "pygments_lexer": "ipython3",
      "nbconvert_exporter": "python",
      "file_extension": ".py"
    },
    "colab": {
      "name": "7-shades-of-data-projects.ipynb",
      "provenance": [],
      "collapsed_sections": [
        "T_uZducpXskm",
        "4d8KRzvk9WmA",
        "MG_r_Uju9WmF",
        "s146N_jMArYy",
        "voz3DL5YAxAV",
        "44hIeL6B9WmV",
        "u2cDryQV9WmW",
        "o1rd5lO99WmY",
        "0bN1UTES9Wma",
        "WRuBNFJtDaCC",
        "CbZxD5xq9Wmi",
        "w8ASq2Bs9Wmo",
        "1pH7rq0O9Wms",
        "L8z6BaXK9Wmw",
        "miloDeJ19Wmz",
        "K4t3ODME9Wm2",
        "2gY9Ilai9Wm5",
        "Ptzir4zS9Wm-",
        "R_RVNkcb9WnD",
        "eoHrPGe_9WnH",
        "BU722l-j9WnI",
        "BY6QLLpy9WnJ",
        "12PpDX4r9WnQ",
        "zcZz3okr9WnW",
        "N0Dzl9xF9WnX"
      ]
    }
  },
  "nbformat_minor": 0,
  "nbformat": 4,
  "cells": [
    {
      "cell_type": "markdown",
      "source": [
        "# 7 SHADES OF DATA - TEAM PROJECT 1\n",
        "* **EN: STUDENT GRADING SYSTEM**\n",
        "* **TR: Öğrenci not sistemi**\n",
        "\n"
      ],
      "metadata": {
        "id": "8qL0SgRWx7y2"
      }
    },
    {
      "cell_type": "markdown",
      "source": [
        "**Team members**\n",
        "\n",
        "* **Coshgun Rehimli:** coshgunrehimli@gmail.com\n",
        "* **Günel Alizada:** gunelrafig94@gmail.com\n",
        "* **Mardan Mirzaguliyev:** mardan.mirzaguliyev@gmail.com\n",
        "* **Narmin Azizova:** nrminazizova@gmail.com\n",
        "* **Rəna İsgəndərova:** rena.isgenderova27@gmail.com\n",
        "* **Shamistan Huseynov:** shamistan.huseynov@gmail.com\n",
        "* **Turan Aghayev:** turan.agazadeh@gmail.com"
      ],
      "metadata": {
        "id": "pTqUup729WlH"
      }
    },
    {
      "cell_type": "markdown",
      "source": [
        "**CONDITIONS:**\n",
        "\n",
        "* Identify subjects like Mathemathics, Physics, Linear Algebra etc.\n",
        "* Identify note intervals. (80-100 -> A, 70-79 -> B etc.)\n",
        "* Build a system that you can enter and keep student information such as name, surname, school number, exam grade\n",
        "* After receiving input the system should display whether a student passed or failed the subject\n",
        "* If student passes the subject,  there should be a note added to the student information file such as \"Passed\"\n",
        "* If student fails the subject, \"Failed\" should be displayed\n",
        "* Create a dataframe containing all the student information received as an input, displaying the exam results of each student\n",
        "* Save the results as an Excel file"
      ],
      "metadata": {
        "id": "-M2J3dVT9WlK"
      }
    },
    {
      "cell_type": "markdown",
      "source": [
        "**ŞARTLAR:**\n",
        "\n",
        "* Kendinize bir ders belirleyiniz. (Matematik,Fizik, Lineer Cebir vb.)\n",
        "* Not aralığınızı oluşturunuz (100-80 ⇒ A, 79-70 ⇒ B vb.)\n",
        "* Öğrenci Bilgilerini (Ad, Soyad, Okul No, sınav puanı) girebileceğiniz ve bu bilgilerin tutulabileceği bir sistem oluşturunuz.\n",
        "* Girilen bilgilerden yola çıkarak öğrencinin dersi geçip geçmediğini göstermesi gerekmektedir.\n",
        "* Öğrenci dersi geçti ise öğrencinin bilgilerinin tutulduğu alana “Geçti” yazısı, öğrenci dersi geçemedi ise “kaldı” yazısını göstermesi gerekmektedir.\n",
        "* Notları girilen öğrencilerden dersi geçenleri ve geçmeyenleri gösteren bir Dataframe oluşturunuz.\n",
        "* Oluşturulan Dataframe’i Excel tablosuna dönüştürünüz."
      ],
      "metadata": {
        "id": "CikEIsm99WlO"
      }
    },
    {
      "cell_type": "code",
      "source": [
        "# import libraries for both of the projects\n",
        "import pandas as pd\n",
        "import numpy as np\n",
        "from openpyxl import Workbook\n",
        "import seaborn as sns\n",
        "import matplotlib.pyplot as plt\n",
        "import chardet\n",
        "from dateutil.parser import parse\n",
        "import plotly.graph_objects as px\n",
        "import plotly.express as po"
      ],
      "metadata": {
        "execution": {
          "iopub.status.busy": "2022-07-22T12:46:12.400485Z",
          "iopub.execute_input": "2022-07-22T12:46:12.400877Z",
          "iopub.status.idle": "2022-07-22T12:46:13.140656Z",
          "shell.execute_reply.started": "2022-07-22T12:46:12.400847Z",
          "shell.execute_reply": "2022-07-22T12:46:13.139618Z"
        },
        "trusted": true,
        "id": "VzZxZokb9WlV"
      },
      "execution_count": 2,
      "outputs": []
    },
    {
      "cell_type": "markdown",
      "source": [
        "### Create grading interval"
      ],
      "metadata": {
        "id": "wGkwGlOF9WlY"
      }
    },
    {
      "cell_type": "code",
      "source": [
        "def gradeStudent(point):\n",
        "    if point >= 90:\n",
        "        return 'A'\n",
        "    elif point >= 80 and point < 90:\n",
        "        return 'B'\n",
        "    elif point >= 70 and point < 80:\n",
        "        return 'C'\n",
        "    elif point <= 60 and point > 50:\n",
        "        return 'D'\n",
        "    else:\n",
        "        return 'F'"
      ],
      "metadata": {
        "execution": {
          "iopub.status.busy": "2022-07-22T12:46:17.332034Z",
          "iopub.execute_input": "2022-07-22T12:46:17.332428Z",
          "iopub.status.idle": "2022-07-22T12:46:17.339758Z",
          "shell.execute_reply.started": "2022-07-22T12:46:17.332398Z",
          "shell.execute_reply": "2022-07-22T12:46:17.337797Z"
        },
        "trusted": true,
        "id": "GoTPgOeD9Wlc"
      },
      "execution_count": 3,
      "outputs": []
    },
    {
      "cell_type": "markdown",
      "source": [
        "### Create student information system"
      ],
      "metadata": {
        "id": "Ubx3LGRP9Wlg"
      }
    },
    {
      "cell_type": "code",
      "source": [
        "class Student:\n",
        "    def __init__(self, name, surname, schoolNo, subject, grade):\n",
        "        self.name = name\n",
        "        self.surname = surname\n",
        "        self.schoolNo = schoolNo\n",
        "        self.subject = subject\n",
        "        self.grade = gradeStudent(point)"
      ],
      "metadata": {
        "execution": {
          "iopub.status.busy": "2022-07-22T12:46:21.156722Z",
          "iopub.execute_input": "2022-07-22T12:46:21.157414Z",
          "iopub.status.idle": "2022-07-22T12:46:21.166600Z",
          "shell.execute_reply.started": "2022-07-22T12:46:21.157351Z",
          "shell.execute_reply": "2022-07-22T12:46:21.165239Z"
        },
        "trusted": true,
        "id": "Irccvbsd9Wli"
      },
      "execution_count": 4,
      "outputs": []
    },
    {
      "cell_type": "markdown",
      "source": [
        "## NOTE: FINISH THIS TO PROCEED TO THE NEXT LINES OF CODES"
      ],
      "metadata": {
        "id": "swUR0zR79Wll"
      }
    },
    {
      "cell_type": "code",
      "source": [
        "# empty list that will contain information about student results\n",
        "students_results = []\n",
        "\n",
        "try:\n",
        "    iterations =  int(input(\"Please enter the number of students that you want to include in Excel file: \"))\n",
        "except:\n",
        "    # in case if there is not correct type inserted we will throw this error\n",
        "    raise TypeError(\"Type is not correct\")\n",
        "\n",
        "for i in range(iterations):\n",
        "    # we are starting to take inputs from user\n",
        "    try:\n",
        "        print('------')\n",
        "        name = input(\"Name: \").upper()\n",
        "        surname = input(\"Surname: \").upper()\n",
        "        schoolNo = input(\"schoolNo: \")\n",
        "        subject = input(\"Subject: \").upper()\n",
        "        point = int(input(\"Point: \"))\n",
        "        \n",
        "        #We are creating our model\n",
        "        student  = Student(name, surname, schoolNo, subject, point)\n",
        "        students_results.append(student)\n",
        "    except:\n",
        "        raise TypeError(\"Type is not correct\")\n",
        "\n",
        "\n",
        "# We are converting list of students to DF then print and save it excel file\n",
        "df_results = pd.DataFrame([t.__dict__ for t in students_results])\n",
        "#df_results = df_results.loc[:, df_passed.columns!='passed']\n",
        "\n",
        "print(\"Students' results\")\n",
        "print(df_results)\n",
        "df_results.to_excel('students-results.xlsx')"
      ],
      "metadata": {
        "execution": {
          "iopub.status.busy": "2022-07-22T12:46:36.988597Z",
          "iopub.execute_input": "2022-07-22T12:46:36.989073Z",
          "iopub.status.idle": "2022-07-22T12:46:54.537534Z",
          "shell.execute_reply.started": "2022-07-22T12:46:36.989038Z",
          "shell.execute_reply": "2022-07-22T12:46:54.536290Z"
        },
        "trusted": true,
        "colab": {
          "base_uri": "https://localhost:8080/"
        },
        "id": "uhKjte6N9Wln",
        "outputId": "99cc31c1-8805-446e-872d-fb8c3bca6081"
      },
      "execution_count": 5,
      "outputs": [
        {
          "output_type": "stream",
          "name": "stdout",
          "text": [
            "Please enter the number of students that you want to include in Excel file: 1\n",
            "------\n",
            "Name: mardan\n",
            "Surname: mirzayev\n",
            "schoolNo: 32\n",
            "Subject: math\n",
            "Point: 77\n",
            "Students' results\n",
            "     name   surname schoolNo subject grade\n",
            "0  MARDAN  MIRZAYEV       32    MATH     C\n"
          ]
        }
      ]
    },
    {
      "cell_type": "markdown",
      "source": [
        "# 7 SHADES OF DATA - TEAM PROJECT 2: \"NETFLIX DATA ANALYSIS\""
      ],
      "metadata": {
        "id": "Wv7UEPwh9Wlr"
      }
    },
    {
      "cell_type": "markdown",
      "source": [
        "**Team members**\n",
        "\n",
        "* **Coshgun Rehimli:** coshgunrehimli@gmail.com\n",
        "* **Günel Alizada:** gunelrafig94@gmail.com\n",
        "* **Mardan Mirzaguliyev:** mardan.mirzaguliyev@gmail.com\n",
        "* **Narmin Azizova:** nrminazizova@gmail.com\n",
        "* **Rəna İsgəndərova:** rena.isgenderova27@gmail.com\n",
        "* **Shamistan Huseynov:** shamistan.huseynov@gmail.com\n",
        "* **Turan Aghayev:** turan.agazadeh@gmail.com"
      ],
      "metadata": {
        "id": "3ifFjA179Wlt"
      }
    },
    {
      "cell_type": "markdown",
      "source": [
        "## Detect encoding of 'NetflixOriginals.csv' file"
      ],
      "metadata": {
        "id": "NAZI9bUs2R5S"
      }
    },
    {
      "cell_type": "markdown",
      "source": [
        "### NOTE: CHANGE FILE DIRECTORY IF RAISES NO FILE OR DIRECTORY ERROR"
      ],
      "metadata": {
        "id": "MqVWTC7l_4sG"
      }
    },
    {
      "cell_type": "code",
      "source": [
        "with open(\"../input/netflixoriginals/NetflixOriginals.csv\", 'rb') as rawdata:\n",
        "  result = chardet.detect(rawdata.read(100000))\n",
        "result"
      ],
      "metadata": {
        "execution": {
          "iopub.status.busy": "2022-07-22T10:54:01.088589Z",
          "iopub.status.idle": "2022-07-22T10:54:01.088980Z",
          "shell.execute_reply.started": "2022-07-22T10:54:01.088771Z",
          "shell.execute_reply": "2022-07-22T10:54:01.088790Z"
        },
        "trusted": true,
        "id": "WCMMDIrK9Wl0"
      },
      "execution_count": null,
      "outputs": []
    },
    {
      "cell_type": "markdown",
      "source": [
        "The code returns that encoding is in the most common encoding format \"UTF-8\"."
      ],
      "metadata": {
        "id": "-kCGemqn2f3Z"
      }
    },
    {
      "cell_type": "code",
      "source": [
        "df = pd.read_csv(\"../input/netflixoriginals/NetflixOriginals.csv\", encoding=\"utf-8\")\n",
        "df"
      ],
      "metadata": {
        "id": "ZFoY5aS9yXYN",
        "execution": {
          "iopub.status.busy": "2022-07-22T10:54:01.090127Z",
          "iopub.status.idle": "2022-07-22T10:54:01.090494Z",
          "shell.execute_reply.started": "2022-07-22T10:54:01.090302Z",
          "shell.execute_reply": "2022-07-22T10:54:01.090320Z"
        },
        "trusted": true
      },
      "execution_count": null,
      "outputs": []
    },
    {
      "cell_type": "markdown",
      "source": [
        "## Get the basic information about data"
      ],
      "metadata": {
        "id": "T_uZducpXskm"
      }
    },
    {
      "cell_type": "code",
      "source": [
        "# variables to explore\n",
        "df.columns"
      ],
      "metadata": {
        "id": "M3vOLVWxMQfV",
        "execution": {
          "iopub.status.busy": "2022-07-22T10:54:01.091580Z",
          "iopub.status.idle": "2022-07-22T10:54:01.091968Z",
          "shell.execute_reply.started": "2022-07-22T10:54:01.091753Z",
          "shell.execute_reply": "2022-07-22T10:54:01.091771Z"
        },
        "trusted": true
      },
      "execution_count": null,
      "outputs": []
    },
    {
      "cell_type": "code",
      "source": [
        "df.info()"
      ],
      "metadata": {
        "execution": {
          "iopub.status.busy": "2022-07-22T10:54:01.093771Z",
          "iopub.status.idle": "2022-07-22T10:54:01.094165Z",
          "shell.execute_reply.started": "2022-07-22T10:54:01.093976Z",
          "shell.execute_reply": "2022-07-22T10:54:01.093994Z"
        },
        "trusted": true,
        "id": "S3Bx4fnJ9Wl6"
      },
      "execution_count": null,
      "outputs": []
    },
    {
      "cell_type": "code",
      "source": [
        "df.describe()"
      ],
      "metadata": {
        "execution": {
          "iopub.status.busy": "2022-07-22T10:54:01.095383Z",
          "iopub.status.idle": "2022-07-22T10:54:01.095747Z",
          "shell.execute_reply.started": "2022-07-22T10:54:01.095566Z",
          "shell.execute_reply": "2022-07-22T10:54:01.095583Z"
        },
        "trusted": true,
        "id": "7K6-BMhL9Wl8"
      },
      "execution_count": null,
      "outputs": []
    },
    {
      "cell_type": "markdown",
      "source": [
        "'describe()' functions returned some basic information about the numerical variables in dataset."
      ],
      "metadata": {
        "id": "UIJeUkve9Wl9"
      }
    },
    {
      "cell_type": "markdown",
      "source": [
        "## Identify data types of variables"
      ],
      "metadata": {
        "id": "4d8KRzvk9WmA"
      }
    },
    {
      "cell_type": "code",
      "source": [
        "df.dtypes"
      ],
      "metadata": {
        "execution": {
          "iopub.status.busy": "2022-07-22T10:54:01.096868Z",
          "iopub.status.idle": "2022-07-22T10:54:01.097245Z",
          "shell.execute_reply.started": "2022-07-22T10:54:01.097066Z",
          "shell.execute_reply": "2022-07-22T10:54:01.097084Z"
        },
        "trusted": true,
        "id": "XEyCGPcR9WmB"
      },
      "execution_count": null,
      "outputs": []
    },
    {
      "cell_type": "code",
      "source": [
        "# number of observations\n",
        "len(df)"
      ],
      "metadata": {
        "id": "nzqMsQWaYb7U",
        "execution": {
          "iopub.status.busy": "2022-07-22T10:54:01.098550Z",
          "iopub.status.idle": "2022-07-22T10:54:01.098898Z",
          "shell.execute_reply.started": "2022-07-22T10:54:01.098721Z",
          "shell.execute_reply": "2022-07-22T10:54:01.098738Z"
        },
        "trusted": true
      },
      "execution_count": null,
      "outputs": []
    },
    {
      "cell_type": "markdown",
      "source": [
        "Names of variables in dataset and number of variables also number of observations have been identified. There are 6 columns and 584 observations in this dataset."
      ],
      "metadata": {
        "id": "HikO5D02X_cP"
      }
    },
    {
      "cell_type": "markdown",
      "source": [
        "## Check for NA values"
      ],
      "metadata": {
        "id": "MG_r_Uju9WmF"
      }
    },
    {
      "cell_type": "code",
      "source": [
        "df.isna().any()"
      ],
      "metadata": {
        "execution": {
          "iopub.status.busy": "2022-07-22T10:54:01.100238Z",
          "iopub.status.idle": "2022-07-22T10:54:01.100593Z",
          "shell.execute_reply.started": "2022-07-22T10:54:01.100405Z",
          "shell.execute_reply": "2022-07-22T10:54:01.100422Z"
        },
        "trusted": true,
        "id": "sB4IOFyv9WmG"
      },
      "execution_count": null,
      "outputs": []
    },
    {
      "cell_type": "markdown",
      "source": [
        "# Question 1\n",
        "\n"
      ],
      "metadata": {
        "id": "s146N_jMArYy"
      }
    },
    {
      "cell_type": "markdown",
      "source": [
        "* EN: **In what language most of the long runtime movies have been filmed? Visualize the results.**\n",
        "* TR: **Veri setine göre uzun soluklu filmler hangi dilde oluşturulmuştur? Görselleştirme yapınız.**"
      ],
      "metadata": {
        "id": "jpG8BQV29WmH"
      }
    },
    {
      "cell_type": "markdown",
      "source": [
        "According to the dataset in what language long runtime movies have been filmed?\n",
        "(Veri setine göre uzun soluklu filmler hangi dilde oluşturulmuştur? Görselleştirme yapınız.)\n",
        "\n",
        "First task was to identfy in which language long runtime movies have been filmed. According to [Academy of Motion Picture Arts and Sciences](https://en.wikipedia.org/wiki/Academy_of_Motion_Picture_Arts_and_Sciences), [short movies](https://en.wikipedia.org/wiki/Short_film) are movies with a running time of 40 minutes or less, including all credits. So, films with a running time of greater than 40 minutes are needed to be filtered out. For clarity, in this project films with runtime values greater than 45 minutes have been taken as long runtime movies. Because, there are some movies with 41, 42 and near runtime values which seem to include longer credits time. "
      ],
      "metadata": {
        "id": "aQ8H-XH99WmI"
      }
    },
    {
      "cell_type": "code",
      "source": [
        "long_runtime = df[df['Runtime'] > 45].sort_values(\"Runtime\", ignore_index=True)\n",
        "long_runtime.head(30)"
      ],
      "metadata": {
        "id": "46JAqhAL-rvf",
        "execution": {
          "iopub.status.busy": "2022-07-22T10:54:01.101734Z",
          "iopub.status.idle": "2022-07-22T10:54:01.102111Z",
          "shell.execute_reply.started": "2022-07-22T10:54:01.101920Z",
          "shell.execute_reply": "2022-07-22T10:54:01.101943Z"
        },
        "trusted": true
      },
      "execution_count": null,
      "outputs": []
    },
    {
      "cell_type": "markdown",
      "source": [
        "The results of new dataset have been visualized in bar graph to see in which languages the movies have been filmed. To do this, first, unique values in 'Languages' column were be identified to check if there were duplicates or misspellings."
      ],
      "metadata": {
        "id": "Dvbb-dPndlfY"
      }
    },
    {
      "cell_type": "code",
      "source": [
        "unique_languages = long_runtime[\"Language\"].unique()\n",
        "unique_languages"
      ],
      "metadata": {
        "execution": {
          "iopub.status.busy": "2022-07-22T10:54:01.103229Z",
          "iopub.status.idle": "2022-07-22T10:54:01.103582Z",
          "shell.execute_reply.started": "2022-07-22T10:54:01.103395Z",
          "shell.execute_reply": "2022-07-22T10:54:01.103412Z"
        },
        "trusted": true,
        "id": "vU8coTak9WmL"
      },
      "execution_count": null,
      "outputs": []
    },
    {
      "cell_type": "markdown",
      "source": [
        "Then, these unique values were counted and sorted in descending order"
      ],
      "metadata": {
        "id": "1eulU9yO9WmM"
      }
    },
    {
      "cell_type": "code",
      "source": [
        "language_counts = long_runtime.groupby(\"Language\")[\"Language\"].count().sort_values(ascending=False).to_frame(\"Number of movies\")\n",
        "language_counts"
      ],
      "metadata": {
        "id": "bNGWU065Hz2G",
        "execution": {
          "iopub.status.busy": "2022-07-22T10:54:01.104990Z",
          "iopub.status.idle": "2022-07-22T10:54:01.105436Z",
          "shell.execute_reply.started": "2022-07-22T10:54:01.105250Z",
          "shell.execute_reply": "2022-07-22T10:54:01.105269Z"
        },
        "trusted": true
      },
      "execution_count": null,
      "outputs": []
    },
    {
      "cell_type": "code",
      "source": [
        "language_countsTop5 = language_counts.head(5)\n",
        "language_countsTop5"
      ],
      "metadata": {
        "execution": {
          "iopub.status.busy": "2022-07-22T10:54:01.106740Z",
          "iopub.status.idle": "2022-07-22T10:54:01.107123Z",
          "shell.execute_reply.started": "2022-07-22T10:54:01.106934Z",
          "shell.execute_reply": "2022-07-22T10:54:01.106954Z"
        },
        "trusted": true,
        "id": "5WCg4d_T9WmO"
      },
      "execution_count": null,
      "outputs": []
    },
    {
      "cell_type": "code",
      "source": [
        "language_countsTop5.plot.pie(y=\"Number of movies\", legend=False, autopct='%1.1f%%')"
      ],
      "metadata": {
        "execution": {
          "iopub.status.busy": "2022-07-22T10:54:01.108473Z",
          "iopub.status.idle": "2022-07-22T10:54:01.108820Z",
          "shell.execute_reply.started": "2022-07-22T10:54:01.108642Z",
          "shell.execute_reply": "2022-07-22T10:54:01.108659Z"
        },
        "trusted": true,
        "id": "SDL9sQfQ9WmQ"
      },
      "execution_count": null,
      "outputs": []
    },
    {
      "cell_type": "code",
      "source": [
        "language_countsTop5.plot.bar(color=\"blue\")"
      ],
      "metadata": {
        "execution": {
          "iopub.status.busy": "2022-07-22T10:54:01.110148Z",
          "iopub.status.idle": "2022-07-22T10:54:01.110522Z",
          "shell.execute_reply.started": "2022-07-22T10:54:01.110318Z",
          "shell.execute_reply": "2022-07-22T10:54:01.110335Z"
        },
        "trusted": true,
        "id": "qvs5oJvW9WmR"
      },
      "execution_count": null,
      "outputs": []
    },
    {
      "cell_type": "markdown",
      "source": [
        "As it is obvious from both of the graphs English is a dominant language. 363 movies with long runtime have been filmed in English. Also, there are movies filmed in two or three languages together which also include English."
      ],
      "metadata": {
        "id": "MMxjxsrL9WmS"
      }
    },
    {
      "cell_type": "markdown",
      "source": [
        "# Question 2\n",
        "\n",
        "* **EN: Visualize the IMDB scores of the 'Docementary' movies that filmed between January, 2019 and June, 2020.**\n",
        "* **TR: 2019 Ocak ile 2020 Haziran tarihleri arasında 'Documentary' türünde çekilmiş filmlerin IMDB değerlerini bulup görselleştiriniz.**"
      ],
      "metadata": {
        "id": "voz3DL5YAxAV"
      }
    },
    {
      "cell_type": "markdown",
      "source": [
        "In introduction section 'dtype' function returnd data types of dataframe. All columns except for 'Runtime' and 'IMDB Score' was object data type which means string. To filter data frame according to the given time period, data type of \"Premiere\" column was needed to be converted into data format."
      ],
      "metadata": {
        "id": "z3JjVKXF9WmU"
      }
    },
    {
      "cell_type": "markdown",
      "source": [
        "## Convert the type of data in 'Premiere' column to date format"
      ],
      "metadata": {
        "id": "44hIeL6B9WmV"
      }
    },
    {
      "cell_type": "code",
      "source": [
        "df['Premiere'] = pd.to_datetime(df['Premiere'])"
      ],
      "metadata": {
        "execution": {
          "iopub.status.busy": "2022-07-22T10:54:01.111676Z",
          "iopub.status.idle": "2022-07-22T10:54:01.112065Z",
          "shell.execute_reply.started": "2022-07-22T10:54:01.111842Z",
          "shell.execute_reply": "2022-07-22T10:54:01.111859Z"
        },
        "trusted": true,
        "id": "dVP7iCbL9WmW"
      },
      "execution_count": null,
      "outputs": []
    },
    {
      "cell_type": "markdown",
      "source": [
        "## Define start and end date"
      ],
      "metadata": {
        "id": "u2cDryQV9WmW"
      }
    },
    {
      "cell_type": "code",
      "source": [
        "start_date='2019-01-01'\n",
        "end_date='2020-06-01'"
      ],
      "metadata": {
        "execution": {
          "iopub.status.busy": "2022-07-22T10:54:01.113342Z",
          "iopub.status.idle": "2022-07-22T10:54:01.113694Z",
          "shell.execute_reply.started": "2022-07-22T10:54:01.113516Z",
          "shell.execute_reply": "2022-07-22T10:54:01.113533Z"
        },
        "trusted": true,
        "id": "ai-9Cb2k9WmX"
      },
      "execution_count": null,
      "outputs": []
    },
    {
      "cell_type": "markdown",
      "source": [
        "## Create filtered dataframe according to dates"
      ],
      "metadata": {
        "id": "o1rd5lO99WmY"
      }
    },
    {
      "cell_type": "code",
      "source": [
        "mask = (df['Premiere'] >= start_date) & (df['Premiere'] <= end_date)\n",
        "df_dates = df.loc[mask].reset_index().iloc[: , 1:]\n",
        "df_dates"
      ],
      "metadata": {
        "execution": {
          "iopub.status.busy": "2022-07-22T10:54:01.114814Z",
          "iopub.status.idle": "2022-07-22T10:54:01.115188Z",
          "shell.execute_reply.started": "2022-07-22T10:54:01.115007Z",
          "shell.execute_reply": "2022-07-22T10:54:01.115025Z"
        },
        "trusted": true,
        "id": "cE9-AO989WmZ"
      },
      "execution_count": null,
      "outputs": []
    },
    {
      "cell_type": "markdown",
      "source": [
        "## Create new dataframe with only documentary movies and selected start and end dates"
      ],
      "metadata": {
        "id": "0bN1UTES9Wma"
      }
    },
    {
      "cell_type": "code",
      "source": [
        "docs_dates = df_dates[df_dates['Genre'] =='Documentary'].sort_values(\"IMDB Score\", ascending=False, ignore_index=True)\n",
        "docs_dates\n",
        "top_ten_docs = docs_dates.head(10)\n",
        "top_ten_docs"
      ],
      "metadata": {
        "execution": {
          "iopub.status.busy": "2022-07-22T10:54:01.116279Z",
          "iopub.status.idle": "2022-07-22T10:54:01.116628Z",
          "shell.execute_reply.started": "2022-07-22T10:54:01.116443Z",
          "shell.execute_reply": "2022-07-22T10:54:01.116468Z"
        },
        "trusted": true,
        "id": "BTXFSk8m9Wmb"
      },
      "execution_count": null,
      "outputs": []
    },
    {
      "cell_type": "code",
      "source": [
        "top_ten_docs.plot.bar(x = \"Title\", y = \"IMDB Score\", color=\"blue\")"
      ],
      "metadata": {
        "execution": {
          "iopub.status.busy": "2022-07-22T10:54:01.117734Z",
          "iopub.status.idle": "2022-07-22T10:54:01.118112Z",
          "shell.execute_reply.started": "2022-07-22T10:54:01.117898Z",
          "shell.execute_reply": "2022-07-22T10:54:01.117944Z"
        },
        "trusted": true,
        "id": "iH4FVChK9Wmc"
      },
      "execution_count": null,
      "outputs": []
    },
    {
      "cell_type": "markdown",
      "source": [
        "Both the final data frame and bar graph revealed that documentary film \"Dancing with the birds\" has the highest IMDB score among the documentary films filmed between January 1, 2019 and June 30, 2020."
      ],
      "metadata": {
        "id": "i6sURJWy9Wmd"
      }
    },
    {
      "cell_type": "markdown",
      "source": [
        "# Question 3\n",
        "* **EN: Which movie genre the film with the highest IMDB score has been filmed in English?**\n",
        "* **TR: İngilizce çekilen filmler içerisinde hangi tür en yüksek IMDB puanına sahiptir?**"
      ],
      "metadata": {
        "id": "WRuBNFJtDaCC"
      }
    },
    {
      "cell_type": "markdown",
      "source": [
        "New data frame was created containing only the movies that filmed in English. By sorting this list according to the IMDB score in descending order, the answer will be found to the third question."
      ],
      "metadata": {
        "id": "QklUzuN9EL75"
      }
    },
    {
      "cell_type": "code",
      "source": [
        "english_movies = df.loc[df['Language'] == 'English'].sort_values(\"IMDB Score\", ascending=False, ignore_index=True)\n",
        "english_movies"
      ],
      "metadata": {
        "id": "1lCiPgdvDZSc",
        "execution": {
          "iopub.status.busy": "2022-07-22T10:54:01.119218Z",
          "iopub.status.idle": "2022-07-22T10:54:01.119568Z",
          "shell.execute_reply.started": "2022-07-22T10:54:01.119383Z",
          "shell.execute_reply": "2022-07-22T10:54:01.119400Z"
        },
        "trusted": true
      },
      "execution_count": null,
      "outputs": []
    },
    {
      "cell_type": "markdown",
      "source": [
        "So, a film  \"A Life on Our Planet\" is the highest ranked film with IMDB score of 9.0 and its genre is Documentary."
      ],
      "metadata": {
        "id": "KIpHkMau9Wmh"
      }
    },
    {
      "cell_type": "markdown",
      "source": [
        "# Question 4"
      ],
      "metadata": {
        "id": "CbZxD5xq9Wmi"
      }
    },
    {
      "cell_type": "markdown",
      "source": [
        "* **EN: What is the average runtime value of films filmed in 'Hindi'?**\n",
        "* **TR: 'Hindi' Dilinde çekilmiş olan filmlerin ortalama 'runtime' suresi nedir?**"
      ],
      "metadata": {
        "id": "Ygo46TTw9Wmk"
      }
    },
    {
      "cell_type": "code",
      "source": [
        "hindi_avg_runtime = round(df[df[\"Language\"] == \"Hindi\"][\"Runtime\"].mean())\n",
        "hindi_avg_runtime"
      ],
      "metadata": {
        "execution": {
          "iopub.status.busy": "2022-07-22T10:54:01.121058Z",
          "iopub.status.idle": "2022-07-22T10:54:01.121413Z",
          "shell.execute_reply.started": "2022-07-22T10:54:01.121232Z",
          "shell.execute_reply": "2022-07-22T10:54:01.121249Z"
        },
        "trusted": true,
        "id": "nYHGc3yq9Wml"
      },
      "execution_count": null,
      "outputs": []
    },
    {
      "cell_type": "markdown",
      "source": [
        "Code snipped above returned that average runtime of films in Hindi language is 116 minutes."
      ],
      "metadata": {
        "id": "ctNHl_lr9Wmn"
      }
    },
    {
      "cell_type": "markdown",
      "source": [
        "# Question 5"
      ],
      "metadata": {
        "id": "w8ASq2Bs9Wmo"
      }
    },
    {
      "cell_type": "markdown",
      "source": [
        "* **EN: How many categories are there in Genre column? Visualize.**\n",
        "* **TR: Genre' Sütunu kaç kategoriye sahiptir ve bu kategoriler nelerdir? Görselleştirerek ifade ediniz.**"
      ],
      "metadata": {
        "id": "xZrJEIgUD0yp"
      }
    },
    {
      "cell_type": "code",
      "source": [
        "df[\"Genre\"].unique()\n",
        "df[\"Genre\"].value_counts()\n",
        "print(df[\"Genre\"].value_counts())\n",
        "topgenre = df[\"Genre\"].value_counts().nlargest(30)\n",
        "topgenre\n",
        "\n",
        "fig = po.bar(data_frame=topgenre, x=topgenre.index, y=topgenre.values, labels={\"y\":\"Number of Movies from the Genre\", \"index\":\"Genres\"})\n",
        "fig.update_layout(xaxis={\"categoryorder\":\"total descending\"})\n",
        "\n",
        "fig.show()"
      ],
      "metadata": {
        "execution": {
          "iopub.status.busy": "2022-07-22T10:54:01.122708Z",
          "iopub.status.idle": "2022-07-22T10:54:01.123080Z",
          "shell.execute_reply.started": "2022-07-22T10:54:01.122874Z",
          "shell.execute_reply": "2022-07-22T10:54:01.122891Z"
        },
        "trusted": true,
        "id": "nlglDRWG9Wmr"
      },
      "execution_count": null,
      "outputs": []
    },
    {
      "cell_type": "markdown",
      "source": [
        "# Question 6"
      ],
      "metadata": {
        "id": "1pH7rq0O9Wms"
      }
    },
    {
      "cell_type": "markdown",
      "source": [
        "* **EN: Find 3 most commonly used languages in dataset.**\n",
        "* **TR: Veri setinde bulunan filmlerde en çok kullanılan 3 dili bulunuz.**"
      ],
      "metadata": {
        "id": "yhph7H-d9Wmt"
      }
    },
    {
      "cell_type": "markdown",
      "source": [
        "**The most used three languages**\n",
        "\n",
        "Using value_counts() function, find most used languages in the films and print first three"
      ],
      "metadata": {
        "id": "3KB_ne7i9Wmu"
      }
    },
    {
      "cell_type": "code",
      "source": [
        "lang_count = df[\"Language\"].value_counts().head(3)\n",
        "lang_count"
      ],
      "metadata": {
        "execution": {
          "iopub.status.busy": "2022-07-22T10:54:01.124400Z",
          "iopub.status.idle": "2022-07-22T10:54:01.124776Z",
          "shell.execute_reply.started": "2022-07-22T10:54:01.124595Z",
          "shell.execute_reply": "2022-07-22T10:54:01.124612Z"
        },
        "trusted": true,
        "id": "tG92AiRb9Wmv"
      },
      "execution_count": null,
      "outputs": []
    },
    {
      "cell_type": "markdown",
      "source": [
        "## Question 7"
      ],
      "metadata": {
        "id": "L8z6BaXK9Wmw"
      }
    },
    {
      "cell_type": "markdown",
      "source": [
        "* **EN: Find 10 films with highest IMDB score.**\n",
        "* **TR: IMDB puanı en yüksek olan ilk 10 film hangileridir?)**"
      ],
      "metadata": {
        "id": "CeAvZzFZ9Wmx"
      }
    },
    {
      "cell_type": "markdown",
      "source": [
        "## Create sorted list of films"
      ],
      "metadata": {
        "id": "miloDeJ19Wmz"
      }
    },
    {
      "cell_type": "markdown",
      "source": [
        "In order to identify 10 films with highest IMDB rankings the data frame was sorted in descending order by IMDB score variable. Then, first 10 films listed."
      ],
      "metadata": {
        "id": "cPgqsnUJ9Wm0"
      }
    },
    {
      "cell_type": "code",
      "source": [
        "sorted_films = df.sort_values(by=\"IMDB Score\", ascending=False, ignore_index=True).head(10)\n",
        "sorted_films"
      ],
      "metadata": {
        "execution": {
          "iopub.status.busy": "2022-07-22T10:54:01.125881Z",
          "iopub.status.idle": "2022-07-22T10:54:01.126260Z",
          "shell.execute_reply.started": "2022-07-22T10:54:01.126082Z",
          "shell.execute_reply": "2022-07-22T10:54:01.126100Z"
        },
        "trusted": true,
        "id": "fdOQw-Cx9Wm1"
      },
      "execution_count": null,
      "outputs": []
    },
    {
      "cell_type": "markdown",
      "source": [
        "New dataframe contains the list of 10 films with the highest IMDB score."
      ],
      "metadata": {
        "id": "ro8DfSTD9Wm2"
      }
    },
    {
      "cell_type": "markdown",
      "source": [
        "## Question 8"
      ],
      "metadata": {
        "id": "K4t3ODME9Wm2"
      }
    },
    {
      "cell_type": "markdown",
      "source": [
        "* **EN: What is the correlation between IMDB score and Runtime? Visualize.**\n",
        "* **TR: IMDB puanı ile 'Runtime' arasında nasıl bir korelasyon vardır? İnceleyip görselleştiriniz.**"
      ],
      "metadata": {
        "id": "tyfgvXjI9Wm3"
      }
    },
    {
      "cell_type": "code",
      "source": [
        "plt.scatter(df['IMDB Score'],df['Runtime'])\n",
        "plt.show()"
      ],
      "metadata": {
        "execution": {
          "iopub.status.busy": "2022-07-22T10:54:01.127551Z",
          "iopub.status.idle": "2022-07-22T10:54:01.127895Z",
          "shell.execute_reply.started": "2022-07-22T10:54:01.127718Z",
          "shell.execute_reply": "2022-07-22T10:54:01.127735Z"
        },
        "trusted": true,
        "id": "nUFvhAPr9Wm3"
      },
      "execution_count": null,
      "outputs": []
    },
    {
      "cell_type": "code",
      "source": [
        "correlation_value = df['IMDB Score'].corr(df['Runtime'])\n",
        "correlation_value"
      ],
      "metadata": {
        "execution": {
          "iopub.status.busy": "2022-07-22T10:54:01.129087Z",
          "iopub.status.idle": "2022-07-22T10:54:01.129445Z",
          "shell.execute_reply.started": "2022-07-22T10:54:01.129267Z",
          "shell.execute_reply": "2022-07-22T10:54:01.129285Z"
        },
        "trusted": true,
        "id": "GzxYJiuC9Wm4"
      },
      "execution_count": null,
      "outputs": []
    },
    {
      "cell_type": "markdown",
      "source": [
        "## Question 9"
      ],
      "metadata": {
        "id": "2gY9Ilai9Wm5"
      }
    },
    {
      "cell_type": "markdown",
      "source": [
        "* **EN:What are the 10 Genre with the highest IMDB score?**\n",
        "* **TR: IMDB Puanı en yüksek olan ilk 10 'Genre' hangileridir? Görselleştiriniz.**"
      ],
      "metadata": {
        "id": "koYtaqwF9Wm5"
      }
    },
    {
      "cell_type": "code",
      "source": [
        "top_imdb_genre = df.sort_values(by = ['IMDB Score'], ascending = False, ignore_index=True).head(10)\n",
        "top_imdb_genre"
      ],
      "metadata": {
        "execution": {
          "iopub.status.busy": "2022-07-22T10:54:01.130638Z",
          "iopub.status.idle": "2022-07-22T10:54:01.131020Z",
          "shell.execute_reply.started": "2022-07-22T10:54:01.130806Z",
          "shell.execute_reply": "2022-07-22T10:54:01.130823Z"
        },
        "trusted": true,
        "id": "diynpCHC9Wm7"
      },
      "execution_count": null,
      "outputs": []
    },
    {
      "cell_type": "code",
      "source": [
        "fig1, ax1 = plt.subplots()\n",
        "ax1.bar(top_imdb_genre['Genre'],top_imdb_genre['IMDB Score'], width = 0.5, color = 'blue')\n",
        "fig1.set_figwidth(20)\n",
        "\n",
        "plt.show()"
      ],
      "metadata": {
        "execution": {
          "iopub.status.busy": "2022-07-22T10:54:01.132140Z",
          "iopub.status.idle": "2022-07-22T10:54:01.132496Z",
          "shell.execute_reply.started": "2022-07-22T10:54:01.132306Z",
          "shell.execute_reply": "2022-07-22T10:54:01.132323Z"
        },
        "trusted": true,
        "id": "9PH-kXLT9Wm8"
      },
      "execution_count": null,
      "outputs": []
    },
    {
      "cell_type": "markdown",
      "source": [
        "So, as the graph says documentary movies have the highest IMDB rankings."
      ],
      "metadata": {
        "id": "WSO14tji9Wm9"
      }
    },
    {
      "cell_type": "markdown",
      "source": [
        "## Question 10"
      ],
      "metadata": {
        "id": "Ptzir4zS9Wm-"
      }
    },
    {
      "cell_type": "markdown",
      "source": [
        "* **EN: List 10 movies with longest 'Runtime' and visualize.**\n",
        "* **TR: 'Runtime' değeri en yüksek olan ilk 10 film hangileridir? Görselleştiriniz.**"
      ],
      "metadata": {
        "id": "gWSFSlXh9Wm-"
      }
    },
    {
      "cell_type": "markdown",
      "source": [
        "In this task we should find top ten longest movies according to their 'Runtime'. For solving this task, we use *pandas* library for reading data, then with methods below, we find the result which we want"
      ],
      "metadata": {
        "id": "DXcl9Vy_9Wm_"
      }
    },
    {
      "cell_type": "code",
      "source": [
        "top_data_runtime = df.sort_values(by = ['Runtime'], ascending = False, ignore_index=True).head(10)\n",
        "top_data_runtime"
      ],
      "metadata": {
        "execution": {
          "iopub.status.busy": "2022-07-22T10:54:01.133607Z",
          "iopub.status.idle": "2022-07-22T10:54:01.134059Z",
          "shell.execute_reply.started": "2022-07-22T10:54:01.133773Z",
          "shell.execute_reply": "2022-07-22T10:54:01.133790Z"
        },
        "trusted": true,
        "id": "kw-P_Ow49Wm_"
      },
      "execution_count": null,
      "outputs": []
    },
    {
      "cell_type": "code",
      "source": [
        "fig1, ax1 = plt.subplots()\n",
        "ax1.bar(top_data_runtime['Title'],top_data_runtime['Runtime'], width = 0.5, color = 'blue')\n",
        "fig1.set_figwidth(20)\n",
        "\n",
        "plt.show()"
      ],
      "metadata": {
        "execution": {
          "iopub.status.busy": "2022-07-22T10:54:01.135719Z",
          "iopub.status.idle": "2022-07-22T10:54:01.136279Z",
          "shell.execute_reply.started": "2022-07-22T10:54:01.136035Z",
          "shell.execute_reply": "2022-07-22T10:54:01.136062Z"
        },
        "trusted": true,
        "id": "N85_3Xnz9WnA"
      },
      "execution_count": null,
      "outputs": []
    },
    {
      "cell_type": "markdown",
      "source": [
        "# Question 11"
      ],
      "metadata": {
        "id": "R_RVNkcb9WnD"
      }
    },
    {
      "cell_type": "markdown",
      "source": [
        "* **EN: In which year the number of movies filmed is the highest? Visualize the results.**\n",
        "* **TR: Hangi yılda en fazla film yayımlanmıştır? Görselleştiriniz.**"
      ],
      "metadata": {
        "id": "Eivm39aV9WnE"
      }
    },
    {
      "cell_type": "markdown",
      "source": [
        "According to our task, we should group by our tasks according to year then visualize the result. But we had a problem that Year column does not only contains year itself. For example data format is something like this *April 2, 2020*. Therefore we firstly took *Premiere* column, then we from each row, we only took last for characters (year length is 4), then we converted it to integer for grouping by easily. After all, we assigned new column to older one. To our updated dataframe, we applied *groupby()* method. Then we are defining years and number of movies in each year and take 3 top years."
      ],
      "metadata": {
        "id": "aSu6ygSj9WnF"
      }
    },
    {
      "cell_type": "code",
      "source": [
        "top_data_max_count = df.sort_values(by = ['Runtime'], ascending = False, ignore_index=\"True\").head(10)\n",
        "top_data_max_count\n",
        "\n",
        "sns.histplot(data=top_data_max_count, x=\"Runtime\", kde= True)\n",
        "\n",
        "top_data_max_count.plot.barh(stacked=True);\n",
        "\n",
        "fig1, ax1 = plt.subplots()\n",
        "ax1.pie(top_data_max_count['Runtime'],  labels=top_data_max_count['Title'], autopct='%1.1f%%',shadow=True, startangle=90)\n",
        "\n",
        "plt.show()"
      ],
      "metadata": {
        "execution": {
          "iopub.status.busy": "2022-07-22T10:54:01.144405Z",
          "iopub.status.idle": "2022-07-22T10:54:01.144849Z",
          "shell.execute_reply.started": "2022-07-22T10:54:01.144644Z",
          "shell.execute_reply": "2022-07-22T10:54:01.144665Z"
        },
        "trusted": true,
        "id": "5OTKJPQY9WnG"
      },
      "execution_count": null,
      "outputs": []
    },
    {
      "cell_type": "markdown",
      "source": [
        "# Question 12"
      ],
      "metadata": {
        "id": "eoHrPGe_9WnH"
      }
    },
    {
      "cell_type": "markdown",
      "source": [
        "* **EN: Which movies have the lowest IMDB scores and in what languages they have been filmed? Visualize.**\n",
        "* **TR: Hangi dilde yayımlanan filmler en düşük ortalama IMBD puanına sahiptir? Görselleştiriniz.**"
      ],
      "metadata": {
        "id": "k141pSuT9WnH"
      }
    },
    {
      "cell_type": "markdown",
      "source": [
        "## Sort data set according to IMDB score"
      ],
      "metadata": {
        "id": "BU722l-j9WnI"
      }
    },
    {
      "cell_type": "code",
      "source": [
        "imdb_score = df.sort_values('IMDB Score')\n",
        "imdb_score.head(100)"
      ],
      "metadata": {
        "execution": {
          "iopub.status.busy": "2022-07-22T10:54:01.146356Z",
          "iopub.status.idle": "2022-07-22T10:54:01.147040Z",
          "shell.execute_reply.started": "2022-07-22T10:54:01.146789Z",
          "shell.execute_reply": "2022-07-22T10:54:01.146813Z"
        },
        "trusted": true,
        "id": "rBmJD8ig9WnJ"
      },
      "execution_count": null,
      "outputs": []
    },
    {
      "cell_type": "markdown",
      "source": [
        "## Create new dataframe populated with the movies IMDB scores less than 6"
      ],
      "metadata": {
        "id": "BY6QLLpy9WnJ"
      }
    },
    {
      "cell_type": "code",
      "source": [
        "lessthan6 = imdb_score[imdb_score['IMDB Score'] < 6]\n",
        "lessthan6"
      ],
      "metadata": {
        "execution": {
          "iopub.status.busy": "2022-07-22T10:54:01.148744Z",
          "iopub.status.idle": "2022-07-22T10:54:01.149168Z",
          "shell.execute_reply.started": "2022-07-22T10:54:01.148971Z",
          "shell.execute_reply": "2022-07-22T10:54:01.148991Z"
        },
        "trusted": true,
        "id": "RSv5yJAE9WnL"
      },
      "execution_count": null,
      "outputs": []
    },
    {
      "cell_type": "code",
      "source": [
        "unique_language = lessthan6.Language.unique()\n",
        "unique_language"
      ],
      "metadata": {
        "execution": {
          "iopub.status.busy": "2022-07-22T10:54:01.150399Z",
          "iopub.status.idle": "2022-07-22T10:54:01.150779Z",
          "shell.execute_reply.started": "2022-07-22T10:54:01.150595Z",
          "shell.execute_reply": "2022-07-22T10:54:01.150613Z"
        },
        "trusted": true,
        "id": "VJml8IW29WnM"
      },
      "execution_count": null,
      "outputs": []
    },
    {
      "cell_type": "code",
      "source": [
        "# sort according to the counts in descending order\n",
        "language_counts = lessthan6.groupby(\"Language\")[\"Language\"].count().sort_values(ascending=False)\n",
        "language_counts"
      ],
      "metadata": {
        "execution": {
          "iopub.status.busy": "2022-07-22T10:54:01.152718Z",
          "iopub.status.idle": "2022-07-22T10:54:01.153135Z",
          "shell.execute_reply.started": "2022-07-22T10:54:01.152941Z",
          "shell.execute_reply": "2022-07-22T10:54:01.152961Z"
        },
        "trusted": true,
        "id": "i9SQa2C_9WnN"
      },
      "execution_count": null,
      "outputs": []
    },
    {
      "cell_type": "code",
      "source": [
        "# top 5 languages with films with lowest IMDB ranking \n",
        "five_movies_lowthan6 = language_counts.head(5)"
      ],
      "metadata": {
        "execution": {
          "iopub.status.busy": "2022-07-22T10:54:01.154810Z",
          "iopub.status.idle": "2022-07-22T10:54:01.155194Z",
          "shell.execute_reply.started": "2022-07-22T10:54:01.155007Z",
          "shell.execute_reply": "2022-07-22T10:54:01.155025Z"
        },
        "trusted": true,
        "id": "RZj--qNz9WnO"
      },
      "execution_count": null,
      "outputs": []
    },
    {
      "cell_type": "code",
      "source": [
        "# Visualize the results\n",
        "barplot = five_movies_lowthan6.plot.bar('lessthan6', 'unique_language', color='blue')"
      ],
      "metadata": {
        "execution": {
          "iopub.status.busy": "2022-07-22T10:54:01.156403Z",
          "iopub.status.idle": "2022-07-22T10:54:01.156781Z",
          "shell.execute_reply.started": "2022-07-22T10:54:01.156597Z",
          "shell.execute_reply": "2022-07-22T10:54:01.156615Z"
        },
        "trusted": true,
        "id": "1m1DCOpZ9WnP"
      },
      "execution_count": null,
      "outputs": []
    },
    {
      "cell_type": "markdown",
      "source": [
        "# Question 13"
      ],
      "metadata": {
        "id": "12PpDX4r9WnQ"
      }
    },
    {
      "cell_type": "markdown",
      "source": [
        "* **EN:Which year has the highest total runtime?**\n",
        "* **TR: Hangi yılın toplam \"runtime\" süresi en fazladır?**"
      ],
      "metadata": {
        "id": "dtwQgqBK9WnQ"
      }
    },
    {
      "cell_type": "code",
      "source": [
        "df['Year'] = pd.DatetimeIndex(base_df['Premiere']).year\n",
        "df"
      ],
      "metadata": {
        "execution": {
          "iopub.status.busy": "2022-07-22T10:54:01.158124Z",
          "iopub.status.idle": "2022-07-22T10:54:01.158492Z",
          "shell.execute_reply.started": "2022-07-22T10:54:01.158300Z",
          "shell.execute_reply": "2022-07-22T10:54:01.158318Z"
        },
        "trusted": true,
        "id": "ySd8NG2A9WnR"
      },
      "execution_count": null,
      "outputs": []
    },
    {
      "cell_type": "code",
      "source": [
        "runtime_byYear = df.groupby('Year').aggregate({'Runtime':'sum'}).sort_values(\"Runtime\", ascending=False)\n",
        "runtime_byYear"
      ],
      "metadata": {
        "execution": {
          "iopub.status.busy": "2022-07-22T10:54:01.160376Z",
          "iopub.status.idle": "2022-07-22T10:54:01.160746Z",
          "shell.execute_reply.started": "2022-07-22T10:54:01.160561Z",
          "shell.execute_reply": "2022-07-22T10:54:01.160579Z"
        },
        "trusted": true,
        "id": "oiOMby9e9WnT"
      },
      "execution_count": null,
      "outputs": []
    },
    {
      "cell_type": "code",
      "source": [
        "plot = runtime_byYear.plot.pie(subplots=True, figsize=(11, 8), autopct='%1.1f%%')"
      ],
      "metadata": {
        "execution": {
          "iopub.status.busy": "2022-07-22T10:54:01.162124Z",
          "iopub.status.idle": "2022-07-22T10:54:01.162490Z",
          "shell.execute_reply.started": "2022-07-22T10:54:01.162297Z",
          "shell.execute_reply": "2022-07-22T10:54:01.162315Z"
        },
        "trusted": true,
        "id": "iNWfqc9V9WnU"
      },
      "execution_count": null,
      "outputs": []
    },
    {
      "cell_type": "code",
      "source": [
        "ax = runtime_byYear.plot.barh(color={\"Runtime\": \"blue\"}, width=0.8)"
      ],
      "metadata": {
        "execution": {
          "iopub.status.busy": "2022-07-22T10:54:01.163730Z",
          "iopub.status.idle": "2022-07-22T10:54:01.164115Z",
          "shell.execute_reply.started": "2022-07-22T10:54:01.163927Z",
          "shell.execute_reply": "2022-07-22T10:54:01.163948Z"
        },
        "trusted": true,
        "id": "cCM_O8Y59WnV"
      },
      "execution_count": null,
      "outputs": []
    },
    {
      "cell_type": "markdown",
      "source": [
        "# Question 14 ??NOT SUBMITTED??"
      ],
      "metadata": {
        "id": "zcZz3okr9WnW"
      }
    },
    {
      "cell_type": "markdown",
      "source": [
        "* **EN: Which genre is the mostly used genre in each language?**\n",
        "* **TR: Her bir dilin en fazla kullanıldığı \"Genre\" nedir?**"
      ],
      "metadata": {
        "id": "-w7MXaBC9WnW"
      }
    },
    {
      "cell_type": "markdown",
      "source": [
        "# Question 15"
      ],
      "metadata": {
        "id": "N0Dzl9xF9WnX"
      }
    },
    {
      "cell_type": "markdown",
      "source": [
        "* **EN: Are there any outliers in the dataset? Identify.**\n",
        "* **TR: Veri setinde outlier veri var mıdır? Açıklayınız.**"
      ],
      "metadata": {
        "id": "bauWTb-X9WnX"
      }
    },
    {
      "cell_type": "code",
      "source": [
        "# check for the outliers in Runtime column\n",
        "fig = po.box(df, y=\"Runtime\")\n",
        "fig.show()"
      ],
      "metadata": {
        "execution": {
          "iopub.status.busy": "2022-07-22T10:54:01.165677Z",
          "iopub.status.idle": "2022-07-22T10:54:01.166066Z",
          "shell.execute_reply.started": "2022-07-22T10:54:01.165850Z",
          "shell.execute_reply": "2022-07-22T10:54:01.165867Z"
        },
        "trusted": true,
        "id": "b_THFOLF9WnY"
      },
      "execution_count": null,
      "outputs": []
    },
    {
      "cell_type": "code",
      "source": [
        "# Check outlier in IMDB Score column\n",
        "fig = po.box(base_df, y=\"IMDB Score\")\n",
        "fig.show()"
      ],
      "metadata": {
        "execution": {
          "iopub.status.busy": "2022-07-22T10:54:01.167300Z",
          "iopub.status.idle": "2022-07-22T10:54:01.167839Z",
          "shell.execute_reply.started": "2022-07-22T10:54:01.167633Z",
          "shell.execute_reply": "2022-07-22T10:54:01.167658Z"
        },
        "trusted": true,
        "id": "0HGuaKu39WnZ"
      },
      "execution_count": null,
      "outputs": []
    },
    {
      "cell_type": "code",
      "source": [
        "# join two plots\n",
        "plot = px.Figure()\n",
        " \n",
        "plot.add_trace(px.Box(y=base_df['Runtime'],name=\"Runtime\"))\n",
        "plot.add_trace(px.Box(y=base_df['IMDB Score'],name='IMDB Score'))\n",
        "\n",
        "plot.show()"
      ],
      "metadata": {
        "execution": {
          "iopub.status.busy": "2022-07-22T10:54:01.169618Z",
          "iopub.status.idle": "2022-07-22T10:54:01.170008Z",
          "shell.execute_reply.started": "2022-07-22T10:54:01.169792Z",
          "shell.execute_reply": "2022-07-22T10:54:01.169809Z"
        },
        "trusted": true,
        "id": "DLIqwGV69Wna"
      },
      "execution_count": null,
      "outputs": []
    }
  ]
}